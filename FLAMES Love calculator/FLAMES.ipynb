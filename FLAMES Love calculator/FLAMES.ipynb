{
  "nbformat": 4,
  "nbformat_minor": 0,
  "metadata": {
    "colab": {
      "provenance": []
    },
    "kernelspec": {
      "name": "python3",
      "display_name": "Python 3"
    },
    "language_info": {
      "name": "python"
    }
  },
  "cells": [
    {
      "cell_type": "code",
      "source": [
        "def find_relationship(count):\n",
        "  F=\"F L A M E S\".split()\n",
        "  rli = 0 # --> Initializing as zero start from 1st letter of 'FLAMES'\n",
        "\n",
        "  # rli refers 'Removed Letter Index'\n",
        "  # etbr refers 'Element To Be Removed'\n",
        "\n",
        "  while (len(F) != 1):\n",
        "    F_copy = F.copy()\n",
        "\n",
        "    for i in range(count):\n",
        "      # If previosly removed letter is last letter of the F,\n",
        "      # then rli will be the out-of-range for updated F.\n",
        "      # To avoid it,\n",
        "      if rli==len(F): #--> means if rli is out-of-range\n",
        "        rli = 0       #--> so fixing the rli as 0 to start from 1st letter.\n",
        "        etbr = F[rli] #--> Assigning that 1st element of the updated F to etbr.\n",
        "        rli += 1      #--> Increment rli to go to next letter in next iteration\n",
        "\n",
        "      elif rli == len(F)-1: # --> means if rli is an last element index.\n",
        "        etbr = F[rli]       # --> Assigning that last element to etbr.\n",
        "        rli = 0             # --> fixing the rli as 0 to start from 1st letter.\n",
        "      else:\n",
        "        etbr = F[rli] # Assiging the letter(next to the removed letter) to etbr\n",
        "        rli += 1      # incrementing rli to go to next letter in next iteration.\n",
        "\n",
        "    F.remove(etbr)\n",
        "    # Finding rli to start counting from the letter next to the removed letter\n",
        "    rli = F_copy.index(etbr)\n",
        "  return F[0]\n",
        "\n",
        "\n",
        "print('\\tFLAMES')\n",
        "a = input(\"Enter your name\\t\\t: \").lower()\n",
        "b = input(\"Enter your crush name\\t: \").lower()\n",
        "\n",
        "import re\n",
        "a = re.findall('[a-z]',a)\n",
        "b = re.findall('[a-z]',b)\n",
        "a_copy = a.copy()\n",
        "\n",
        "# Striking out the letters that both names share\n",
        "for i in a:\n",
        "  if i in b:\n",
        "    a_copy.remove(i)\n",
        "    b.remove(i)\n",
        "\n",
        "letters_count = len(a_copy)+len(b) #total no of letters left after striking out\n",
        "\n",
        "flames = {'F':\"Friends\",'L':\"Love\",'A':\"Affection\",\n",
        "      'M':\"Marriage\", 'E':\"Enemy\", 'S':\"Siblings\"}\n",
        "\n",
        "if letters_count == 0:\n",
        "  print('''\n",
        "Your relationship is so mysterious that even FLAMES can't predict it.\\n\n",
        "Reason: After removing all common letters in both of your name,\n",
        "there are no letters left. So it's not possible do FLAMES!\n",
        "  ''')\n",
        "else:\n",
        "  result = find_relationship(letters_count)\n",
        "  print(\"Relationship status\\t:\", flames.get(result))"
      ],
      "metadata": {
        "id": "uFRO5Z_Z5ffT",
        "colab": {
          "base_uri": "https://localhost:8080/"
        },
        "outputId": "ed028563-68c4-4c02-e651-206a21f55a63"
      },
      "execution_count": 1,
      "outputs": [
        {
          "output_type": "stream",
          "name": "stdout",
          "text": [
            "\tFLAMES\n",
            "Enter your name\t\t: Tessa young\n",
            "Enter your crush name\t: Hardin\n",
            "Relationship status\t: Affection\n"
          ]
        }
      ]
    }
  ]
}